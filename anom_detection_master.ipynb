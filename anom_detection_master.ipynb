{
 "cells": [
  {
   "cell_type": "code",
   "execution_count": 2,
   "metadata": {},
   "outputs": [
    {
     "name": "stderr",
     "output_type": "stream",
     "text": [
      "Using TensorFlow backend.\n"
     ]
    }
   ],
   "source": [
    "from keras.layers import Dense, Input, Conv2D, Conv2DTranspose, Lambda, Flatten, Reshape, MaxPooling2D\n",
    "from keras.models import Model\n",
    "from keras.losses import mean_squared_error, binary_crossentropy, kullback_leibler_divergence\n",
    "from keras.callbacks import EarlyStopping, TerminateOnNaN, ReduceLROnPlateau\n",
    "from keras import backend as K\n",
    "import tensorflow as tf\n",
    "from sklearn.preprocessing import StandardScaler#\n",
    "\n",
    "import numpy as np\n",
    "import pandas as pd\n",
    "import matplotlib.pyplot as plt\n",
    "import os, scipy\n",
    "from sklearn.model_selection import train_test_split\n",
    "\n",
    "from phenom_to_df import *"
   ]
  },
  {
   "cell_type": "code",
   "execution_count": 3,
   "metadata": {},
   "outputs": [],
   "source": [
    "#Get the data\n",
    "df = csv_to_df('test/')\n",
    "df = df.fillna(0)\n",
    "variables = [entry for entry in df.columns if entry[0] == 'E'] + [entry for entry in df.columns if entry[0:2] == 'pt'] + [entry for entry in df.columns if entry[0:2] == 'et'] + [entry for entry in df.columns if entry[0:2] == 'ph']"
   ]
  },
  {
   "cell_type": "code",
   "execution_count": 4,
   "metadata": {},
   "outputs": [],
   "source": [
    "#Now we one_hot encode the data to make sure we have a class definition\n",
    "df = df[['process_ID']+variables]\n",
    "one_hot = pd.get_dummies(df['process_ID'])\n",
    "processes = one_hot.columns\n",
    "df.drop('process_ID', axis = 'columns', inplace = True)\n",
    "df = pd.concat([df, one_hot], sort = False, axis = 1)"
   ]
  },
  {
   "cell_type": "code",
   "execution_count": 5,
   "metadata": {},
   "outputs": [],
   "source": [
    "#We have created a df of our values and some kind of class label\n",
    "#We should normalize\n",
    "x = df[variables].values\n",
    "x_scaled = StandardScaler().fit_transform(x)\n",
    "df[variables] = x_scaled\n",
    "\n",
    "x_train, x_test, y_train, y_test = train_test_split(df[variables].values,\n",
    "\t\t\t\t\t\t    df[processes].values, \n",
    "                                                    shuffle = True,\n",
    "                                                    random_state = 42,\n",
    "                                                    test_size = 0.1)"
   ]
  },
  {
   "cell_type": "code",
   "execution_count": 6,
   "metadata": {},
   "outputs": [],
   "source": [
    "#Reshape the data. This will have to be done explicitly until you think of a clever way of doing it\n",
    "x_train = x_train.reshape((x_train.shape[0], 4, 3, 5))\n",
    "x_test = x_test.reshape((x_test.shape[0], 4, 3, 5))"
   ]
  },
  {
   "cell_type": "code",
   "execution_count": 7,
   "metadata": {},
   "outputs": [],
   "source": [
    "def sampling(args):\n",
    "    z_mean, z_log_var=args\n",
    "    epsilon=tf.random.uniform(shape=(K.shape(z_mean)[0], latent_dim))\n",
    "    return z_mean+K.exp(z_log_var/2)*epsilon"
   ]
  },
  {
   "cell_type": "code",
   "execution_count": 8,
   "metadata": {},
   "outputs": [],
   "source": [
    "#VAE Model\n",
    "original_dim = x_train.shape[0]\n",
    "input_shape = x_train.shape[1:]\n",
    "latent_dim = 4\n",
    "intermediate_dim = 50\n",
    "kernel_max_norm = 1000.\n",
    "act_fun = 'relu'\n",
    "epsilon_std = 1.\n",
    "filters = 32\n",
    "kernel_size = (3, 3)\n",
    "strides = (1, 1)\n"
   ]
  },
  {
   "cell_type": "code",
   "execution_count": 9,
   "metadata": {},
   "outputs": [],
   "source": [
    "#Layers\n",
    "x_input = Input(shape = input_shape, name = 'Input')\n",
    "conv_1 = Conv2D(filters = filters, \n",
    "                activation = act_fun,\n",
    "                kernel_size = kernel_size,\n",
    "                strides = strides, \n",
    "                padding = 'same')(x_input)\n",
    "pool_1 = MaxPooling2D(pool_size = (1, 1),\n",
    "                      strides = 2,\n",
    "                      data_format = 'channels_first')(conv_1)\n",
    "conv_2 = Conv2D(filters = filters, \n",
    "                activation = act_fun, \n",
    "                kernel_size = kernel_size, \n",
    "                strides = strides, \n",
    "                padding = 'same')(pool_1)\n",
    "\n",
    "#Shape info needed to inform the dense layer in the decoder\n",
    "flatten = Flatten()(conv_2)\n",
    "#cnn = Model(x_input, flatten, name = 'cnn')\n",
    "#cnn.summary()\n",
    "\n",
    "shape = input_shape"
   ]
  },
  {
   "cell_type": "code",
   "execution_count": 10,
   "metadata": {},
   "outputs": [
    {
     "name": "stdout",
     "output_type": "stream",
     "text": [
      "Model: \"encoder\"\n",
      "__________________________________________________________________________________________________\n",
      "Layer (type)                    Output Shape         Param #     Connected to                     \n",
      "==================================================================================================\n",
      "Input (InputLayer)              (None, 4, 3, 5)      0                                            \n",
      "__________________________________________________________________________________________________\n",
      "conv2d_1 (Conv2D)               (None, 4, 3, 32)     1472        Input[0][0]                      \n",
      "__________________________________________________________________________________________________\n",
      "max_pooling2d_1 (MaxPooling2D)  (None, 4, 2, 16)     0           conv2d_1[0][0]                   \n",
      "__________________________________________________________________________________________________\n",
      "conv2d_2 (Conv2D)               (None, 4, 2, 32)     4640        max_pooling2d_1[0][0]            \n",
      "__________________________________________________________________________________________________\n",
      "flatten_1 (Flatten)             (None, 256)          0           conv2d_2[0][0]                   \n",
      "__________________________________________________________________________________________________\n",
      "dense_encoder_1 (Dense)         (None, 50)           12850       flatten_1[0][0]                  \n",
      "__________________________________________________________________________________________________\n",
      "dense_encoder_2 (Dense)         (None, 16)           816         dense_encoder_1[0][0]            \n",
      "__________________________________________________________________________________________________\n",
      "z_mean (Dense)                  (None, 4)            68          dense_encoder_2[0][0]            \n",
      "__________________________________________________________________________________________________\n",
      "z_var (Dense)                   (None, 4)            68          dense_encoder_2[0][0]            \n",
      "__________________________________________________________________________________________________\n",
      "sampling (Lambda)               (None, 4)            0           z_mean[0][0]                     \n",
      "                                                                 z_var[0][0]                      \n",
      "==================================================================================================\n",
      "Total params: 19,914\n",
      "Trainable params: 19,914\n",
      "Non-trainable params: 0\n",
      "__________________________________________________________________________________________________\n"
     ]
    }
   ],
   "source": [
    "#Encoding\n",
    "dense_encoder_1 = Dense(intermediate_dim,\n",
    "                        activation = act_fun,\n",
    "                        name = 'dense_encoder_1')(flatten)\n",
    "dense_encoder_2 = Dense(16,\n",
    "                        activation = act_fun,\n",
    "                        name = 'dense_encoder_2')(dense_encoder_1)\n",
    "z_mean = Dense(latent_dim, name = 'z_mean')(dense_encoder_2)\n",
    "z_var = Dense(latent_dim, name = 'z_var')(dense_encoder_2)\n",
    "\n",
    "z = Lambda(sampling, output_shape = (latent_dim, ), name = 'sampling')([z_mean, z_var])\n",
    "\n",
    "encoder = Model(x_input, [z_mean, z_var, z], name = 'encoder')\n",
    "encoder.summary()\n"
   ]
  },
  {
   "cell_type": "code",
   "execution_count": 11,
   "metadata": {},
   "outputs": [
    {
     "name": "stdout",
     "output_type": "stream",
     "text": [
      "Model: \"decoder\"\n",
      "_________________________________________________________________\n",
      "Layer (type)                 Output Shape              Param #   \n",
      "=================================================================\n",
      "decoder_input (InputLayer)   (None, 4)                 0         \n",
      "_________________________________________________________________\n",
      "dense_decoder_1 (Dense)      (None, 60)                300       \n",
      "_________________________________________________________________\n",
      "reshape_1 (Reshape)          (None, 4, 3, 5)           0         \n",
      "_________________________________________________________________\n",
      "deconv_1 (Conv2DTranspose)   (None, 4, 3, 32)          1472      \n",
      "_________________________________________________________________\n",
      "deconv_2 (Conv2DTranspose)   (None, 4, 3, 16)          4624      \n",
      "_________________________________________________________________\n",
      "decoder_output (Conv2DTransp (None, 4, 3, 5)           725       \n",
      "=================================================================\n",
      "Total params: 7,121\n",
      "Trainable params: 7,121\n",
      "Non-trainable params: 0\n",
      "_________________________________________________________________\n"
     ]
    }
   ],
   "source": [
    "#Decoding\n",
    "decoder_input = Input(shape = (latent_dim, ), name = 'decoder_input')\n",
    "dense_decoder_1 = Dense(shape[0]*shape[1]*shape[2], \n",
    "                        activation = act_fun, name = 'dense_decoder_1')(decoder_input)\n",
    "reshape = Reshape((shape[0], shape[1], shape[2]))(dense_decoder_1)\n",
    "\n",
    "deconv_1 = Conv2DTranspose(filters = filters,\n",
    "                           kernel_size = kernel_size, \n",
    "                           activation = act_fun, \n",
    "                           strides = strides, \n",
    "                           padding = 'same', \n",
    "                           name = 'deconv_1')(reshape)\n",
    "deconv_2 = Conv2DTranspose(filters = 16,\n",
    "                           kernel_size = kernel_size, \n",
    "                           activation = act_fun, \n",
    "                           strides = strides, \n",
    "                           padding = 'same', \n",
    "                           name = 'deconv_2')(deconv_1)\n",
    "\n",
    "output = Conv2DTranspose(filters = 5, \n",
    "                         kernel_size = kernel_size, \n",
    "                         activation = 'sigmoid', \n",
    "                         padding = 'same', \n",
    "                         strides = strides, \n",
    "                         name = 'decoder_output')(deconv_2)\n",
    "\n",
    "decoder = Model(decoder_input, output, name = 'decoder')\n",
    "decoder.summary()\n"
   ]
  },
  {
   "cell_type": "code",
   "execution_count": 12,
   "metadata": {},
   "outputs": [],
   "source": [
    "#Build the VAE model\n",
    "outputs = decoder(encoder(x_input)[2])\n",
    "vae = Model(x_input, outputs, name = 'vae')"
   ]
  },
  {
   "cell_type": "code",
   "execution_count": 57,
   "metadata": {},
   "outputs": [],
   "source": [
    "#Define some losses\n",
    "def kl_loss(y_true, y_pred):\n",
    "    kl_loss = 1 + z_var - K.square(z_mean) - K.exp(z_var)\n",
    "    kl_loss = K.sum(kl_loss, axis=-1)\n",
    "    kl_loss *= -0.5\n",
    "    kl_loss = K.mean(kl_loss)\n",
    "    return kl_loss\n",
    "\n",
    "def recon_loss(y_true, y_pred):\n",
    "    recon_loss = mean_squared_error(K.flatten(y_true), K.flatten(y_pred))\n",
    "    recon_loss *= shape[0]*shape[1]*shape[2]\n",
    "    recon_loss = K.mean(recon_loss)\n",
    "    return recon_loss\n",
    "\n",
    "def my_vae_loss(y_true, y_pred):\n",
    "    recon = recon_loss(y_true, y_pred) \n",
    "    kl = kl_loss(y_true, y_pred)\n",
    "    vae_loss = recon + kl\n",
    "    return vae_loss\n"
   ]
  },
  {
   "cell_type": "code",
   "execution_count": 59,
   "metadata": {},
   "outputs": [
    {
     "name": "stdout",
     "output_type": "stream",
     "text": [
      "Model: \"vae\"\n",
      "_________________________________________________________________\n",
      "Layer (type)                 Output Shape              Param #   \n",
      "=================================================================\n",
      "Input (InputLayer)           (None, 4, 3, 5)           0         \n",
      "_________________________________________________________________\n",
      "encoder (Model)              [(None, 4), (None, 4), (N 19914     \n",
      "_________________________________________________________________\n",
      "decoder (Model)              (None, 4, 3, 5)           7121      \n",
      "=================================================================\n",
      "Total params: 27,035\n",
      "Trainable params: 27,035\n",
      "Non-trainable params: 0\n",
      "_________________________________________________________________\n"
     ]
    }
   ],
   "source": [
    "vae.compile(optimizer = 'rmsprop', loss = my_vae_loss, metrics = [kl_loss, recon_loss])\n",
    "vae.summary()\n"
   ]
  },
  {
   "cell_type": "code",
   "execution_count": 60,
   "metadata": {},
   "outputs": [
    {
     "name": "stdout",
     "output_type": "stream",
     "text": [
      "Train on 6075 samples, validate on 6075 samples\n",
      "Epoch 1/100\n",
      " - 6s - loss: 56.5557 - kl_loss: 0.6183 - recon_loss: 52.3071 - val_loss: 56.2025 - val_kl_loss: 0.5428 - val_recon_loss: 51.4786\n",
      "Epoch 2/100\n",
      " - 1s - loss: 56.1445 - kl_loss: 0.5745 - recon_loss: 50.9407 - val_loss: 56.1662 - val_kl_loss: 0.6207 - val_recon_loss: 51.3741\n",
      "Epoch 3/100\n",
      " - 2s - loss: 56.1438 - kl_loss: 0.5945 - recon_loss: 51.2637 - val_loss: 56.1303 - val_kl_loss: 0.5964 - val_recon_loss: 51.3313\n",
      "Epoch 4/100\n",
      " - 1s - loss: 56.1436 - kl_loss: 0.6347 - recon_loss: 52.7860 - val_loss: 56.1836 - val_kl_loss: 0.6258 - val_recon_loss: 51.3698\n",
      "Epoch 5/100\n",
      " - 1s - loss: 56.1807 - kl_loss: 0.6224 - recon_loss: 51.8240 - val_loss: 56.2118 - val_kl_loss: 0.6657 - val_recon_loss: 51.3802\n",
      "Epoch 6/100\n",
      " - 1s - loss: 56.1134 - kl_loss: 0.6308 - recon_loss: 53.4610 - val_loss: 56.1595 - val_kl_loss: 0.6404 - val_recon_loss: 51.3559\n",
      "Epoch 7/100\n",
      " - 1s - loss: 56.1582 - kl_loss: 0.6093 - recon_loss: 51.2590 - val_loss: 56.3265 - val_kl_loss: 0.6957 - val_recon_loss: 51.4757\n",
      "Epoch 8/100\n",
      " - 2s - loss: 56.1711 - kl_loss: 0.6085 - recon_loss: 51.0291 - val_loss: 56.1492 - val_kl_loss: 0.6240 - val_recon_loss: 51.3504\n",
      "Epoch 9/100\n",
      " - 1s - loss: 56.0964 - kl_loss: 0.6117 - recon_loss: 51.7545 - val_loss: 56.2084 - val_kl_loss: 0.6418 - val_recon_loss: 51.3699\n",
      "Epoch 10/100\n",
      " - 1s - loss: 56.0734 - kl_loss: 0.6136 - recon_loss: 51.1988 - val_loss: 56.2000 - val_kl_loss: 0.6264 - val_recon_loss: 51.3918\n",
      "Epoch 11/100\n",
      " - 1s - loss: 56.1194 - kl_loss: 0.6326 - recon_loss: 52.8405 - val_loss: 56.4416 - val_kl_loss: 0.6835 - val_recon_loss: 51.5985\n",
      "Epoch 12/100\n",
      " - 2s - loss: 56.1507 - kl_loss: 0.6345 - recon_loss: 52.9209 - val_loss: 56.3370 - val_kl_loss: 0.5724 - val_recon_loss: 51.5529\n",
      "Epoch 13/100\n",
      " - 1s - loss: 56.1603 - kl_loss: 0.6230 - recon_loss: 52.3722 - val_loss: 56.1388 - val_kl_loss: 0.6121 - val_recon_loss: 51.3364\n",
      "Epoch 14/100\n",
      " - 1s - loss: 56.0874 - kl_loss: 0.6194 - recon_loss: 51.9298 - val_loss: 56.1033 - val_kl_loss: 0.5716 - val_recon_loss: 51.3504\n",
      "Epoch 15/100\n",
      " - 1s - loss: 56.1552 - kl_loss: 0.6301 - recon_loss: 53.6996 - val_loss: 56.0579 - val_kl_loss: 0.6208 - val_recon_loss: 51.2457\n",
      "Epoch 16/100\n",
      " - 1s - loss: 56.1110 - kl_loss: 0.6257 - recon_loss: 52.6520 - val_loss: 56.1065 - val_kl_loss: 0.6107 - val_recon_loss: 51.3232\n",
      "Epoch 17/100\n",
      " - 1s - loss: 56.1233 - kl_loss: 0.6202 - recon_loss: 51.1929 - val_loss: 56.0418 - val_kl_loss: 0.6039 - val_recon_loss: 51.2743\n",
      "Epoch 18/100\n",
      " - 1s - loss: 56.0491 - kl_loss: 0.6464 - recon_loss: 62.5828 - val_loss: 56.2869 - val_kl_loss: 0.6678 - val_recon_loss: 51.4584\n",
      "Epoch 19/100\n",
      " - 1s - loss: 56.1193 - kl_loss: 0.6475 - recon_loss: 55.7429 - val_loss: 56.0833 - val_kl_loss: 0.6274 - val_recon_loss: 51.2536\n",
      "Epoch 20/100\n",
      " - 1s - loss: 56.1582 - kl_loss: 0.6323 - recon_loss: 51.3621 - val_loss: 56.1015 - val_kl_loss: 0.6529 - val_recon_loss: 51.2708\n",
      "Epoch 21/100\n",
      " - 1s - loss: 56.0219 - kl_loss: 0.6541 - recon_loss: 52.3774 - val_loss: 56.0158 - val_kl_loss: 0.6193 - val_recon_loss: 51.2115\n",
      "Epoch 22/100\n",
      " - 1s - loss: 56.0251 - kl_loss: 0.6444 - recon_loss: 57.1722 - val_loss: 56.4308 - val_kl_loss: 0.5921 - val_recon_loss: 51.6530\n",
      "Epoch 23/100\n",
      " - 0s - loss: 56.2337 - kl_loss: 0.6352 - recon_loss: 51.1531 - val_loss: 56.0675 - val_kl_loss: 0.5979 - val_recon_loss: 51.2629\n",
      "Epoch 24/100\n",
      " - 0s - loss: 56.0620 - kl_loss: 0.6253 - recon_loss: 51.3146 - val_loss: 56.2578 - val_kl_loss: 0.6899 - val_recon_loss: 51.3661\n",
      "Epoch 25/100\n",
      " - 0s - loss: 56.1223 - kl_loss: 0.6594 - recon_loss: 54.0028 - val_loss: 56.0957 - val_kl_loss: 0.6266 - val_recon_loss: 51.2768\n",
      "Epoch 26/100\n",
      " - 0s - loss: 56.0557 - kl_loss: 0.6492 - recon_loss: 57.7373 - val_loss: 56.1581 - val_kl_loss: 0.6932 - val_recon_loss: 51.2842\n",
      "Epoch 27/100\n",
      " - 0s - loss: 56.1013 - kl_loss: 0.6551 - recon_loss: 51.8052 - val_loss: 56.0969 - val_kl_loss: 0.6051 - val_recon_loss: 51.3120\n",
      "Epoch 28/100\n",
      " - 0s - loss: 56.0855 - kl_loss: 0.6491 - recon_loss: 52.2508 - val_loss: 56.6607 - val_kl_loss: 0.7542 - val_recon_loss: 51.7141\n",
      "Epoch 29/100\n",
      " - 1s - loss: 56.1709 - kl_loss: 0.6474 - recon_loss: 51.0228 - val_loss: 56.0887 - val_kl_loss: 0.6401 - val_recon_loss: 51.2528\n",
      "Epoch 30/100\n",
      " - 1s - loss: 56.0223 - kl_loss: 0.6254 - recon_loss: 54.3671 - val_loss: 56.4286 - val_kl_loss: 0.6977 - val_recon_loss: 51.5460\n",
      "Epoch 31/100\n",
      " - 1s - loss: 56.1226 - kl_loss: 0.6321 - recon_loss: 51.6298 - val_loss: 56.0838 - val_kl_loss: 0.6527 - val_recon_loss: 51.2581\n",
      "Epoch 32/100\n",
      " - 1s - loss: 56.1048 - kl_loss: 0.6494 - recon_loss: 53.8494 - val_loss: 56.1198 - val_kl_loss: 0.6276 - val_recon_loss: 51.2900\n",
      "Epoch 33/100\n",
      " - 1s - loss: 56.0556 - kl_loss: 0.6345 - recon_loss: 51.6564 - val_loss: 56.1385 - val_kl_loss: 0.6525 - val_recon_loss: 51.2988\n",
      "Epoch 34/100\n",
      " - 1s - loss: 56.0672 - kl_loss: 0.6549 - recon_loss: 51.9880 - val_loss: 56.0511 - val_kl_loss: 0.6402 - val_recon_loss: 51.2417\n",
      "Epoch 35/100\n",
      " - 0s - loss: 56.0071 - kl_loss: 0.7006 - recon_loss: 80.2109 - val_loss: 56.1704 - val_kl_loss: 0.5912 - val_recon_loss: 51.4248\n",
      "Epoch 36/100\n",
      " - 1s - loss: 56.0443 - kl_loss: 0.6416 - recon_loss: 53.5215 - val_loss: 56.0420 - val_kl_loss: 0.6600 - val_recon_loss: 51.2099\n",
      "Epoch 37/100\n",
      " - 1s - loss: 56.0743 - kl_loss: 0.6465 - recon_loss: 51.5680 - val_loss: 56.0332 - val_kl_loss: 0.6704 - val_recon_loss: 51.1664\n",
      "Epoch 38/100\n",
      " - 1s - loss: 56.0099 - kl_loss: 0.6505 - recon_loss: 51.9589 - val_loss: 56.0153 - val_kl_loss: 0.6585 - val_recon_loss: 51.1896\n",
      "Epoch 39/100\n",
      " - 1s - loss: 55.9658 - kl_loss: 0.6330 - recon_loss: 51.0514 - val_loss: 56.0455 - val_kl_loss: 0.6397 - val_recon_loss: 51.2167\n",
      "Epoch 40/100\n",
      " - 1s - loss: 56.1457 - kl_loss: 0.6440 - recon_loss: 51.3686 - val_loss: 56.0635 - val_kl_loss: 0.6617 - val_recon_loss: 51.2150\n",
      "Epoch 41/100\n",
      " - 1s - loss: 55.9867 - kl_loss: 0.6605 - recon_loss: 61.8846 - val_loss: 55.9837 - val_kl_loss: 0.6521 - val_recon_loss: 51.1259\n",
      "Epoch 42/100\n",
      " - 1s - loss: 55.9633 - kl_loss: 0.6516 - recon_loss: 52.6736 - val_loss: 56.1673 - val_kl_loss: 0.6967 - val_recon_loss: 51.2430\n",
      "Epoch 43/100\n",
      " - 1s - loss: 56.0963 - kl_loss: 0.6510 - recon_loss: 51.5498 - val_loss: 56.0191 - val_kl_loss: 0.6411 - val_recon_loss: 51.1766\n",
      "Epoch 44/100\n",
      " - 0s - loss: 56.0139 - kl_loss: 0.6451 - recon_loss: 52.7982 - val_loss: 56.0548 - val_kl_loss: 0.6375 - val_recon_loss: 51.2172\n",
      "Epoch 45/100\n",
      " - 0s - loss: 55.9696 - kl_loss: 0.6410 - recon_loss: 51.3871 - val_loss: 55.9696 - val_kl_loss: 0.6407 - val_recon_loss: 51.1438\n",
      "Epoch 46/100\n",
      " - 0s - loss: 56.0302 - kl_loss: 0.6902 - recon_loss: 70.3234 - val_loss: 56.4691 - val_kl_loss: 0.7629 - val_recon_loss: 51.5097\n",
      "Epoch 47/100\n",
      " - 1s - loss: 56.0487 - kl_loss: 0.6700 - recon_loss: 50.8327 - val_loss: 55.9500 - val_kl_loss: 0.6496 - val_recon_loss: 51.0731\n",
      "Epoch 48/100\n",
      " - 0s - loss: 55.9514 - kl_loss: 0.6249 - recon_loss: 51.0818 - val_loss: 56.1573 - val_kl_loss: 0.6720 - val_recon_loss: 51.3144\n",
      "Epoch 49/100\n",
      " - 1s - loss: 56.0065 - kl_loss: 0.6622 - recon_loss: 52.4647 - val_loss: 56.0700 - val_kl_loss: 0.6444 - val_recon_loss: 51.2325\n",
      "Epoch 50/100\n",
      " - 1s - loss: 56.0237 - kl_loss: 0.6539 - recon_loss: 51.0289 - val_loss: 56.1927 - val_kl_loss: 0.7148 - val_recon_loss: 51.2676\n",
      "Epoch 51/100\n",
      " - 1s - loss: 56.0563 - kl_loss: 0.6546 - recon_loss: 51.3513 - val_loss: 56.0429 - val_kl_loss: 0.6377 - val_recon_loss: 51.1775\n",
      "Epoch 52/100\n",
      " - 1s - loss: 55.9734 - kl_loss: 0.6683 - recon_loss: 51.6604 - val_loss: 56.1195 - val_kl_loss: 0.7116 - val_recon_loss: 51.2351\n",
      "Epoch 53/100\n",
      " - 1s - loss: 56.0488 - kl_loss: 0.6681 - recon_loss: 51.9234 - val_loss: 55.9807 - val_kl_loss: 0.6850 - val_recon_loss: 51.0817\n",
      "Epoch 54/100\n",
      " - 0s - loss: 55.9614 - kl_loss: 0.6701 - recon_loss: 55.4946 - val_loss: 56.2318 - val_kl_loss: 0.7340 - val_recon_loss: 51.2930\n",
      "Epoch 55/100\n",
      " - 0s - loss: 56.0416 - kl_loss: 0.6606 - recon_loss: 51.4948 - val_loss: 55.9440 - val_kl_loss: 0.6502 - val_recon_loss: 51.0831\n",
      "Epoch 56/100\n",
      " - 1s - loss: 55.9382 - kl_loss: 0.6831 - recon_loss: 81.5232 - val_loss: 56.0712 - val_kl_loss: 0.6440 - val_recon_loss: 51.2543\n",
      "Epoch 57/100\n",
      " - 1s - loss: 56.0798 - kl_loss: 0.6691 - recon_loss: 52.4877 - val_loss: 56.2543 - val_kl_loss: 0.6928 - val_recon_loss: 51.3495\n",
      "Epoch 58/100\n"
     ]
    },
    {
     "name": "stdout",
     "output_type": "stream",
     "text": [
      " - 1s - loss: 56.0608 - kl_loss: 0.6694 - recon_loss: 51.4153 - val_loss: 56.1559 - val_kl_loss: 0.6960 - val_recon_loss: 51.2753\n",
      "Epoch 59/100\n",
      " - 1s - loss: 55.9875 - kl_loss: 0.6876 - recon_loss: 51.5730 - val_loss: 56.0438 - val_kl_loss: 0.6551 - val_recon_loss: 51.1946\n",
      "Epoch 60/100\n",
      " - 1s - loss: 55.9682 - kl_loss: 0.6789 - recon_loss: 54.0749 - val_loss: 56.0118 - val_kl_loss: 0.6208 - val_recon_loss: 51.1669\n",
      "Epoch 61/100\n",
      " - 1s - loss: 55.9752 - kl_loss: 0.6570 - recon_loss: 53.5645 - val_loss: 56.0601 - val_kl_loss: 0.6585 - val_recon_loss: 51.1895\n",
      "Epoch 62/100\n",
      " - 1s - loss: 55.9949 - kl_loss: 0.6749 - recon_loss: 51.0826 - val_loss: 56.1387 - val_kl_loss: 0.6325 - val_recon_loss: 51.2855\n",
      "Epoch 63/100\n",
      " - 1s - loss: 55.9716 - kl_loss: 0.6473 - recon_loss: 51.1262 - val_loss: 55.9852 - val_kl_loss: 0.6904 - val_recon_loss: 51.0847\n",
      "Epoch 64/100\n",
      " - 1s - loss: 56.0319 - kl_loss: 0.6801 - recon_loss: 50.9433 - val_loss: 56.0185 - val_kl_loss: 0.6740 - val_recon_loss: 51.1568\n",
      "Epoch 65/100\n",
      " - 1s - loss: 55.9226 - kl_loss: 0.6820 - recon_loss: 52.8010 - val_loss: 56.0731 - val_kl_loss: 0.7100 - val_recon_loss: 51.1791\n",
      "Epoch 66/100\n",
      " - 1s - loss: 55.9727 - kl_loss: 0.6916 - recon_loss: 52.5401 - val_loss: 55.9860 - val_kl_loss: 0.6557 - val_recon_loss: 51.1309\n",
      "Epoch 67/100\n",
      " - 1s - loss: 55.9264 - kl_loss: 0.6485 - recon_loss: 51.4103 - val_loss: 56.4218 - val_kl_loss: 0.7776 - val_recon_loss: 51.4698\n",
      "Epoch 68/100\n",
      " - 1s - loss: 56.0380 - kl_loss: 0.6747 - recon_loss: 51.1272 - val_loss: 55.9274 - val_kl_loss: 0.6460 - val_recon_loss: 51.0736\n",
      "Epoch 69/100\n",
      " - 1s - loss: 55.9203 - kl_loss: 0.6558 - recon_loss: 51.4768 - val_loss: 56.0032 - val_kl_loss: 0.6850 - val_recon_loss: 51.1299\n",
      "Epoch 70/100\n",
      " - 0s - loss: 55.9083 - kl_loss: 0.6641 - recon_loss: 51.0350 - val_loss: 55.9018 - val_kl_loss: 0.6998 - val_recon_loss: 51.0011\n",
      "Epoch 71/100\n",
      " - 0s - loss: 56.0141 - kl_loss: 0.6841 - recon_loss: 50.7147 - val_loss: 55.9434 - val_kl_loss: 0.7171 - val_recon_loss: 51.0128\n",
      "Epoch 72/100\n",
      " - 0s - loss: 55.9235 - kl_loss: 0.6797 - recon_loss: 50.6320 - val_loss: 56.0023 - val_kl_loss: 0.6596 - val_recon_loss: 51.1338\n",
      "Epoch 73/100\n",
      " - 1s - loss: 55.9649 - kl_loss: 0.6647 - recon_loss: 51.1179 - val_loss: 55.9317 - val_kl_loss: 0.7018 - val_recon_loss: 51.0215\n",
      "Epoch 74/100\n",
      " - 0s - loss: 55.9117 - kl_loss: 0.6984 - recon_loss: 60.6602 - val_loss: 55.9970 - val_kl_loss: 0.6591 - val_recon_loss: 51.1669\n",
      "Epoch 75/100\n",
      " - 0s - loss: 55.9024 - kl_loss: 0.6710 - recon_loss: 53.0012 - val_loss: 56.4160 - val_kl_loss: 0.7412 - val_recon_loss: 51.4536\n",
      "Epoch 76/100\n",
      " - 0s - loss: 56.0567 - kl_loss: 0.6848 - recon_loss: 51.4966 - val_loss: 55.9350 - val_kl_loss: 0.7003 - val_recon_loss: 51.0225\n",
      "Epoch 77/100\n",
      " - 1s - loss: 56.0005 - kl_loss: 0.7397 - recon_loss: 142.8502 - val_loss: 56.1652 - val_kl_loss: 0.6289 - val_recon_loss: 51.3332\n",
      "Epoch 78/100\n",
      " - 1s - loss: 55.9564 - kl_loss: 0.6546 - recon_loss: 51.2339 - val_loss: 55.8802 - val_kl_loss: 0.6792 - val_recon_loss: 50.9798\n",
      "Epoch 79/100\n",
      " - 0s - loss: 55.9051 - kl_loss: 0.6719 - recon_loss: 50.9725 - val_loss: 56.0107 - val_kl_loss: 0.6441 - val_recon_loss: 51.1852\n",
      "Epoch 80/100\n",
      " - 0s - loss: 55.9050 - kl_loss: 0.6718 - recon_loss: 51.9200 - val_loss: 55.9714 - val_kl_loss: 0.6462 - val_recon_loss: 51.1078\n",
      "Epoch 81/100\n",
      " - 0s - loss: 55.9254 - kl_loss: 0.6668 - recon_loss: 51.1212 - val_loss: 56.0166 - val_kl_loss: 0.6718 - val_recon_loss: 51.1421\n",
      "Epoch 82/100\n",
      " - 1s - loss: 55.9962 - kl_loss: 0.6926 - recon_loss: 55.2406 - val_loss: 56.3537 - val_kl_loss: 0.7263 - val_recon_loss: 51.4214\n",
      "Epoch 83/100\n",
      " - 1s - loss: 55.9951 - kl_loss: 0.7003 - recon_loss: 67.7276 - val_loss: 55.9497 - val_kl_loss: 0.6742 - val_recon_loss: 51.1017\n",
      "Epoch 84/100\n",
      " - 1s - loss: 55.8812 - kl_loss: 0.6796 - recon_loss: 52.7741 - val_loss: 56.0316 - val_kl_loss: 0.6727 - val_recon_loss: 51.1203\n",
      "Epoch 85/100\n",
      " - 1s - loss: 55.9538 - kl_loss: 0.6745 - recon_loss: 51.0025 - val_loss: 56.0843 - val_kl_loss: 0.7334 - val_recon_loss: 51.1240\n",
      "Epoch 86/100\n",
      " - 1s - loss: 55.9619 - kl_loss: 0.6934 - recon_loss: 51.0403 - val_loss: 55.9875 - val_kl_loss: 0.6505 - val_recon_loss: 51.1556\n",
      "Epoch 87/100\n",
      " - 1s - loss: 55.9518 - kl_loss: 0.6699 - recon_loss: 50.9785 - val_loss: 55.9607 - val_kl_loss: 0.6278 - val_recon_loss: 51.1351\n",
      "Epoch 88/100\n",
      " - 0s - loss: 55.8851 - kl_loss: 0.6511 - recon_loss: 51.4951 - val_loss: 56.1919 - val_kl_loss: 0.6900 - val_recon_loss: 51.3012\n",
      "Epoch 89/100\n",
      " - 0s - loss: 56.0311 - kl_loss: 0.6899 - recon_loss: 52.7530 - val_loss: 55.9346 - val_kl_loss: 0.7060 - val_recon_loss: 51.0285\n",
      "Epoch 90/100\n",
      " - 0s - loss: 55.8667 - kl_loss: 0.6762 - recon_loss: 51.9401 - val_loss: 56.2255 - val_kl_loss: 0.6518 - val_recon_loss: 51.3772\n",
      "Epoch 91/100\n",
      " - 1s - loss: 55.9602 - kl_loss: 0.7014 - recon_loss: 51.0049 - val_loss: 55.9028 - val_kl_loss: 0.7521 - val_recon_loss: 50.9481\n",
      "Epoch 92/100\n",
      " - 1s - loss: 55.9093 - kl_loss: 0.7178 - recon_loss: 66.3444 - val_loss: 55.9876 - val_kl_loss: 0.6454 - val_recon_loss: 51.1024\n",
      "Epoch 93/100\n",
      " - 1s - loss: 55.9516 - kl_loss: 0.6629 - recon_loss: 51.2175 - val_loss: 55.9939 - val_kl_loss: 0.6463 - val_recon_loss: 51.1662\n",
      "Epoch 94/100\n",
      " - 1s - loss: 55.8627 - kl_loss: 0.6817 - recon_loss: 51.9826 - val_loss: 55.8941 - val_kl_loss: 0.6804 - val_recon_loss: 51.0094\n",
      "Epoch 95/100\n",
      " - 1s - loss: 55.8372 - kl_loss: 0.6816 - recon_loss: 101.2709 - val_loss: 56.0584 - val_kl_loss: 0.7510 - val_recon_loss: 51.1062\n",
      "Epoch 96/100\n",
      " - 1s - loss: 56.0051 - kl_loss: 0.6956 - recon_loss: 51.9095 - val_loss: 55.8882 - val_kl_loss: 0.7198 - val_recon_loss: 50.9547\n",
      "Epoch 97/100\n",
      " - 1s - loss: 55.8621 - kl_loss: 0.6903 - recon_loss: 51.6162 - val_loss: 55.9515 - val_kl_loss: 0.6612 - val_recon_loss: 51.0804\n",
      "Epoch 98/100\n",
      " - 1s - loss: 55.9042 - kl_loss: 0.6718 - recon_loss: 50.7287 - val_loss: 55.9776 - val_kl_loss: 0.7073 - val_recon_loss: 51.0407\n",
      "Epoch 99/100\n",
      " - 1s - loss: 55.9225 - kl_loss: 0.6917 - recon_loss: 51.4020 - val_loss: 55.8813 - val_kl_loss: 0.7185 - val_recon_loss: 50.9445\n",
      "Epoch 100/100\n",
      " - 1s - loss: 55.8392 - kl_loss: 0.6918 - recon_loss: 51.8695 - val_loss: 55.9692 - val_kl_loss: 0.6573 - val_recon_loss: 51.1405\n"
     ]
    }
   ],
   "source": [
    "#Fit the model\n",
    "epochs = 100\n",
    "batch_size = 1000\n",
    "\n",
    "history = vae.fit(x = x_train,\n",
    "                  y = x_train,\n",
    "                  validation_data = (x_train, x_train),\n",
    "                  epochs = epochs,\n",
    "                  batch_size = batch_size,\n",
    "                  verbose = 2)\n",
    "\n",
    "vae.save('cnn-vae_model.h5')"
   ]
  },
  {
   "cell_type": "code",
   "execution_count": 61,
   "metadata": {},
   "outputs": [
    {
     "data": {
      "image/png": "[encoded data removed]",
      "text/plain": [
       "<Figure size 432x288 with 1 Axes>"
      ]
     },
     "metadata": {
      "needs_background": "light"
     },
     "output_type": "display_data"
    }
   ],
   "source": [
    "plt.plot(history.history['loss'])\n",
    "plt.plot(history.history['val_loss'])\n",
    "plt.title('Model loss')\n",
    "plt.ylabel('Loss')\n",
    "plt.xlabel('Epoch')\n",
    "plt.legend(['Train', 'Test'], loc='upper left')\n",
    "plt.show()"
   ]
  },
  {
   "cell_type": "code",
   "execution_count": 62,
   "metadata": {},
   "outputs": [
    {
     "data": {
      "text/plain": [
       "['loss', 'kl_loss', 'recon_loss']"
      ]
     },
     "execution_count": 62,
     "metadata": {},
     "output_type": "execute_result"
    }
   ],
   "source": [
    "vae.metrics_names"
   ]
  },
  {
   "cell_type": "code",
   "execution_count": 63,
   "metadata": {},
   "outputs": [
    {
     "data": {
      "image/png": "[encoded data removed]",
      "text/plain": [
       "<Figure size 432x288 with 1 Axes>"
      ]
     },
     "metadata": {
      "needs_background": "light"
     },
     "output_type": "display_data"
    }
   ],
   "source": [
    "plt.plot(history.history['kl_loss'])\n",
    "plt.title('Kullback-Liebler Loss')\n",
    "plt.ylabel('Loss')\n",
    "plt.xlabel('Epoch')\n",
    "plt.legend(['Train', 'Test'], loc = 'upper left')\n",
    "plt.show()"
   ]
  },
  {
   "cell_type": "code",
   "execution_count": 64,
   "metadata": {},
   "outputs": [
    {
     "data": {
      "image/png": "[encoded data removed]",
      "text/plain": [
       "<Figure size 432x288 with 1 Axes>"
      ]
     },
     "metadata": {
      "needs_background": "light"
     },
     "output_type": "display_data"
    }
   ],
   "source": [
    "plt.plot(history.history['recon_loss'])\n",
    "plt.title('Reconstruction (MSE) Loss')\n",
    "plt.ylabel('Loss')\n",
    "plt.xlabel('Epoch')\n",
    "plt.legend(['Train', 'Test'], loc = 'upper left')\n",
    "plt.show()"
   ]
  },
  {
   "cell_type": "code",
   "execution_count": 64,
   "metadata": {},
   "outputs": [],
   "source": [
    "anom_df = csv_to_df('bsm_test/')"
   ]
  },
  {
   "cell_type": "code",
   "execution_count": 65,
   "metadata": {},
   "outputs": [],
   "source": [
    "anom_df = anom_df.fillna(0)\n",
    "anom_vars = [entry for entry in df.columns if entry[0] == 'E'] + [entry for entry in df.columns if entry[0:2] == 'pt'] + [entry for entry in df.columns if entry[0:2] == 'et'] + [entry for entry in df.columns if entry[0:2] == 'ph']\n",
    "#Now we one_hot encode the data to make sure we have a class definition\n",
    "anom_df = anom_df[['process_ID']+anom_vars]\n",
    "anom_one_hot = pd.get_dummies(anom_df['process_ID'])\n",
    "anom_processes = anom_one_hot.columns\n",
    "anom_df.drop('process_ID', axis = 'columns', inplace = True)\n",
    "anom_df = pd.concat([anom_df, anom_one_hot], sort = False, axis = 1)"
   ]
  },
  {
   "cell_type": "code",
   "execution_count": 69,
   "metadata": {},
   "outputs": [],
   "source": [
    "#We have created a df of our values and some kind of class label\n",
    "#We should normalize\n",
    "anom_x = anom_df[anom_vars].values\n",
    "anom_scaled = StandardScaler().fit_transform(anom_x)\n",
    "anom_df[anom_vars] = anom_scaled\n",
    "\n",
    "anom_x_train, anom_x_test, anom_y_train, anom_y_test = train_test_split(anom_df[anom_vars].values,\n",
    "\t\t\t\t\t\t    anom_df[anom_processes].values, \n",
    "                                                    shuffle = True,\n",
    "                                                    random_state = 42,\n",
    "                                                    test_size = 0.1)"
   ]
  },
  {
   "cell_type": "code",
   "execution_count": 70,
   "metadata": {},
   "outputs": [],
   "source": [
    "#Reshape the data. This will have to be done explicitly until you think of a clever way of doing it\n",
    "anom_x_train = anom_x_train.reshape((anom_x_train.shape[0], 4, 3, 5))\n",
    "anom_x_test = anom_x_test.reshape((anom_x_test.shape[0], 4, 3, 5))"
   ]
  },
  {
   "cell_type": "code",
   "execution_count": 73,
   "metadata": {},
   "outputs": [],
   "source": [
    "from keras.models import load_model"
   ]
  },
  {
   "cell_type": "code",
   "execution_count": 93,
   "metadata": {},
   "outputs": [
    {
     "name": "stdout",
     "output_type": "stream",
     "text": [
      "2455/2455 [==============================] - 0s 149us/step\n"
     ]
    },
    {
     "data": {
      "text/plain": [
       "62.426984195748076"
      ]
     },
     "execution_count": 93,
     "metadata": {},
     "output_type": "execute_result"
    }
   ],
   "source": [
    "vae.evaluate(x_train[:2455], anom_x_train)"
   ]
  },
  {
   "cell_type": "code",
   "execution_count": null,
   "metadata": {},
   "outputs": [],
   "source": []
  }
 ],
 "metadata": {
  "kernelspec": {
   "display_name": "Python 3",
   "language": "python",
   "name": "python3"
  },
  "language_info": {
   "codemirror_mode": {
    "name": "ipython",
    "version": 3
   },
   "file_extension": ".py",
   "mimetype": "text/x-python",
   "name": "python",
   "nbconvert_exporter": "python",
   "pygments_lexer": "ipython3",
   "version": "3.7.4"
  }
 },
 "nbformat": 4,
 "nbformat_minor": 2
}
