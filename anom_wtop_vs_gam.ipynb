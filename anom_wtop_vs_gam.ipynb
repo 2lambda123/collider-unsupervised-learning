{
 "cells": [
  {
   "cell_type": "code",
   "execution_count": 1,
   "metadata": {},
   "outputs": [
    {
     "name": "stderr",
     "output_type": "stream",
     "text": [
      "Using TensorFlow backend.\n"
     ]
    }
   ],
   "source": [
    "from keras.layers import Dense, Input, Conv2D, Conv2DTranspose, Lambda, Flatten, Reshape, MaxPooling2D\n",
    "from keras.models import Model\n",
    "from keras.losses import mean_squared_error, kullback_leibler_divergence\n",
    "from keras.callbacks import EarlyStopping, TerminateOnNaN, ReduceLROnPlateau\n",
    "from keras import backend as K\n",
    "import tensorflow as tf\n",
    "from sklearn.preprocessing import StandardScaler\n",
    "\n",
    "import numpy as np\n",
    "import pandas as pd\n",
    "import matplotlib.pyplot as plt\n",
    "import os, scipy\n",
    "from sklearn.model_selection import train_test_split\n",
    "\n",
    "from phenom_to_df import *"
   ]
  },
  {
   "cell_type": "code",
   "execution_count": 2,
   "metadata": {},
   "outputs": [],
   "source": [
    "#Get the data\n",
    "df = csv_to_df('gam_samples/')"
   ]
  },
  {
   "cell_type": "code",
   "execution_count": 3,
   "metadata": {},
   "outputs": [],
   "source": [
    "df = df.fillna(0)\n",
    "variables = [entry for entry in df.columns if entry[0] == 'E'] + [entry for entry in df.columns if entry[0:2] == 'pt'] + [entry for entry in df.columns if entry[0:2] == 'et'] + [entry for entry in df.columns if entry[0:2] == 'ph']"
   ]
  },
  {
   "cell_type": "code",
   "execution_count": 4,
   "metadata": {},
   "outputs": [
    {
     "data": {
      "text/html": [
       "<div>\n",
       "<style scoped>\n",
       "    .dataframe tbody tr th:only-of-type {\n",
       "        vertical-align: middle;\n",
       "    }\n",
       "\n",
       "    .dataframe tbody tr th {\n",
       "        vertical-align: top;\n",
       "    }\n",
       "\n",
       "    .dataframe thead th {\n",
       "        text-align: right;\n",
       "    }\n",
       "</style>\n",
       "<table border=\"1\" class=\"dataframe\">\n",
       "  <thead>\n",
       "    <tr style=\"text-align: right;\">\n",
       "      <th></th>\n",
       "      <th>event_ID</th>\n",
       "      <th>process_ID</th>\n",
       "      <th>event_weight</th>\n",
       "      <th>MET</th>\n",
       "      <th>MET_Phi</th>\n",
       "      <th>obj1</th>\n",
       "      <th>E1</th>\n",
       "      <th>pt1</th>\n",
       "      <th>eta1</th>\n",
       "      <th>phi1</th>\n",
       "      <th>...</th>\n",
       "      <th>obj11</th>\n",
       "      <th>E11</th>\n",
       "      <th>pt11</th>\n",
       "      <th>eta11</th>\n",
       "      <th>phi11</th>\n",
       "      <th>obj12</th>\n",
       "      <th>E12</th>\n",
       "      <th>pt12</th>\n",
       "      <th>eta12</th>\n",
       "      <th>phi12</th>\n",
       "    </tr>\n",
       "  </thead>\n",
       "  <tbody>\n",
       "    <tr>\n",
       "      <td>0</td>\n",
       "      <td>18984</td>\n",
       "      <td>2gam</td>\n",
       "      <td>1</td>\n",
       "      <td>42260.8</td>\n",
       "      <td>-1.43297</td>\n",
       "      <td>j</td>\n",
       "      <td>287062</td>\n",
       "      <td>248208</td>\n",
       "      <td>-0.548137</td>\n",
       "      <td>0.264839</td>\n",
       "      <td>...</td>\n",
       "      <td>0</td>\n",
       "      <td>0</td>\n",
       "      <td>0</td>\n",
       "      <td>0</td>\n",
       "      <td>0</td>\n",
       "      <td>0</td>\n",
       "      <td>0</td>\n",
       "      <td>0</td>\n",
       "      <td>0</td>\n",
       "      <td>0</td>\n",
       "    </tr>\n",
       "    <tr>\n",
       "      <td>1</td>\n",
       "      <td>18984</td>\n",
       "      <td>2gam</td>\n",
       "      <td>1</td>\n",
       "      <td>6035.72</td>\n",
       "      <td>1.96804</td>\n",
       "      <td>g</td>\n",
       "      <td>85958.2</td>\n",
       "      <td>23583.2</td>\n",
       "      <td>-1.9671</td>\n",
       "      <td>0.951141</td>\n",
       "      <td>...</td>\n",
       "      <td>0</td>\n",
       "      <td>0</td>\n",
       "      <td>0</td>\n",
       "      <td>0</td>\n",
       "      <td>0</td>\n",
       "      <td>0</td>\n",
       "      <td>0</td>\n",
       "      <td>0</td>\n",
       "      <td>0</td>\n",
       "      <td>0</td>\n",
       "    </tr>\n",
       "    <tr>\n",
       "      <td>2</td>\n",
       "      <td>18984</td>\n",
       "      <td>2gam</td>\n",
       "      <td>1</td>\n",
       "      <td>6622.72</td>\n",
       "      <td>-1.28153</td>\n",
       "      <td>g</td>\n",
       "      <td>33021.6</td>\n",
       "      <td>29679.4</td>\n",
       "      <td>-0.47023</td>\n",
       "      <td>1.32244</td>\n",
       "      <td>...</td>\n",
       "      <td>0</td>\n",
       "      <td>0</td>\n",
       "      <td>0</td>\n",
       "      <td>0</td>\n",
       "      <td>0</td>\n",
       "      <td>0</td>\n",
       "      <td>0</td>\n",
       "      <td>0</td>\n",
       "      <td>0</td>\n",
       "      <td>0</td>\n",
       "    </tr>\n",
       "    <tr>\n",
       "      <td>3</td>\n",
       "      <td>18984</td>\n",
       "      <td>2gam</td>\n",
       "      <td>1</td>\n",
       "      <td>6343.79</td>\n",
       "      <td>0.247373</td>\n",
       "      <td>g</td>\n",
       "      <td>30126.4</td>\n",
       "      <td>23789.3</td>\n",
       "      <td>0.714609</td>\n",
       "      <td>-2.42662</td>\n",
       "      <td>...</td>\n",
       "      <td>0</td>\n",
       "      <td>0</td>\n",
       "      <td>0</td>\n",
       "      <td>0</td>\n",
       "      <td>0</td>\n",
       "      <td>0</td>\n",
       "      <td>0</td>\n",
       "      <td>0</td>\n",
       "      <td>0</td>\n",
       "      <td>0</td>\n",
       "    </tr>\n",
       "    <tr>\n",
       "      <td>4</td>\n",
       "      <td>18984</td>\n",
       "      <td>2gam</td>\n",
       "      <td>1</td>\n",
       "      <td>8157.26</td>\n",
       "      <td>1.55667</td>\n",
       "      <td>g</td>\n",
       "      <td>100611</td>\n",
       "      <td>26763.5</td>\n",
       "      <td>1.99919</td>\n",
       "      <td>-2.17258</td>\n",
       "      <td>...</td>\n",
       "      <td>0</td>\n",
       "      <td>0</td>\n",
       "      <td>0</td>\n",
       "      <td>0</td>\n",
       "      <td>0</td>\n",
       "      <td>0</td>\n",
       "      <td>0</td>\n",
       "      <td>0</td>\n",
       "      <td>0</td>\n",
       "      <td>0</td>\n",
       "    </tr>\n",
       "    <tr>\n",
       "      <td>...</td>\n",
       "      <td>...</td>\n",
       "      <td>...</td>\n",
       "      <td>...</td>\n",
       "      <td>...</td>\n",
       "      <td>...</td>\n",
       "      <td>...</td>\n",
       "      <td>...</td>\n",
       "      <td>...</td>\n",
       "      <td>...</td>\n",
       "      <td>...</td>\n",
       "      <td>...</td>\n",
       "      <td>...</td>\n",
       "      <td>...</td>\n",
       "      <td>...</td>\n",
       "      <td>...</td>\n",
       "      <td>...</td>\n",
       "      <td>...</td>\n",
       "      <td>...</td>\n",
       "      <td>...</td>\n",
       "      <td>...</td>\n",
       "      <td>...</td>\n",
       "    </tr>\n",
       "    <tr>\n",
       "      <td>1220762</td>\n",
       "      <td>26615</td>\n",
       "      <td>Wgam</td>\n",
       "      <td>1</td>\n",
       "      <td>1421.49</td>\n",
       "      <td>-2.474</td>\n",
       "      <td>j</td>\n",
       "      <td>204644</td>\n",
       "      <td>67794.3</td>\n",
       "      <td>1.76918</td>\n",
       "      <td>-0.687769</td>\n",
       "      <td>...</td>\n",
       "      <td>0</td>\n",
       "      <td>0</td>\n",
       "      <td>0</td>\n",
       "      <td>0</td>\n",
       "      <td>0</td>\n",
       "      <td>0</td>\n",
       "      <td>0</td>\n",
       "      <td>0</td>\n",
       "      <td>0</td>\n",
       "      <td>0</td>\n",
       "    </tr>\n",
       "    <tr>\n",
       "      <td>1220763</td>\n",
       "      <td>26615</td>\n",
       "      <td>Wgam</td>\n",
       "      <td>1</td>\n",
       "      <td>186690</td>\n",
       "      <td>0.211668</td>\n",
       "      <td>j</td>\n",
       "      <td>270526</td>\n",
       "      <td>142188</td>\n",
       "      <td>-1.25264</td>\n",
       "      <td>-2.68393</td>\n",
       "      <td>...</td>\n",
       "      <td>0</td>\n",
       "      <td>0</td>\n",
       "      <td>0</td>\n",
       "      <td>0</td>\n",
       "      <td>0</td>\n",
       "      <td>0</td>\n",
       "      <td>0</td>\n",
       "      <td>0</td>\n",
       "      <td>0</td>\n",
       "      <td>0</td>\n",
       "    </tr>\n",
       "    <tr>\n",
       "      <td>1220764</td>\n",
       "      <td>26615</td>\n",
       "      <td>Wgam</td>\n",
       "      <td>1</td>\n",
       "      <td>5755.02</td>\n",
       "      <td>-0.0294825</td>\n",
       "      <td>j</td>\n",
       "      <td>127753</td>\n",
       "      <td>56116.6</td>\n",
       "      <td>1.46162</td>\n",
       "      <td>2.70033</td>\n",
       "      <td>...</td>\n",
       "      <td>0</td>\n",
       "      <td>0</td>\n",
       "      <td>0</td>\n",
       "      <td>0</td>\n",
       "      <td>0</td>\n",
       "      <td>0</td>\n",
       "      <td>0</td>\n",
       "      <td>0</td>\n",
       "      <td>0</td>\n",
       "      <td>0</td>\n",
       "    </tr>\n",
       "    <tr>\n",
       "      <td>1220765</td>\n",
       "      <td>26615</td>\n",
       "      <td>Wgam</td>\n",
       "      <td>1</td>\n",
       "      <td>21209.7</td>\n",
       "      <td>1.45601</td>\n",
       "      <td>j</td>\n",
       "      <td>178814</td>\n",
       "      <td>69628</td>\n",
       "      <td>1.5946</td>\n",
       "      <td>-0.971769</td>\n",
       "      <td>...</td>\n",
       "      <td>0</td>\n",
       "      <td>0</td>\n",
       "      <td>0</td>\n",
       "      <td>0</td>\n",
       "      <td>0</td>\n",
       "      <td>0</td>\n",
       "      <td>0</td>\n",
       "      <td>0</td>\n",
       "      <td>0</td>\n",
       "      <td>0</td>\n",
       "    </tr>\n",
       "    <tr>\n",
       "      <td>1220766</td>\n",
       "      <td>26615</td>\n",
       "      <td>Wgam</td>\n",
       "      <td>1</td>\n",
       "      <td>23873.7</td>\n",
       "      <td>-1.6074</td>\n",
       "      <td>g</td>\n",
       "      <td>43675.7</td>\n",
       "      <td>32792.8</td>\n",
       "      <td>0.793701</td>\n",
       "      <td>-1.71254</td>\n",
       "      <td>...</td>\n",
       "      <td>0</td>\n",
       "      <td>0</td>\n",
       "      <td>0</td>\n",
       "      <td>0</td>\n",
       "      <td>0</td>\n",
       "      <td>0</td>\n",
       "      <td>0</td>\n",
       "      <td>0</td>\n",
       "      <td>0</td>\n",
       "      <td>0</td>\n",
       "    </tr>\n",
       "  </tbody>\n",
       "</table>\n",
       "<p>1220767 rows × 65 columns</p>\n",
       "</div>"
      ],
      "text/plain": [
       "        event_ID process_ID event_weight      MET     MET_Phi obj1       E1  \\\n",
       "0          18984       2gam            1  42260.8    -1.43297    j   287062   \n",
       "1          18984       2gam            1  6035.72     1.96804    g  85958.2   \n",
       "2          18984       2gam            1  6622.72    -1.28153    g  33021.6   \n",
       "3          18984       2gam            1  6343.79    0.247373    g  30126.4   \n",
       "4          18984       2gam            1  8157.26     1.55667    g   100611   \n",
       "...          ...        ...          ...      ...         ...  ...      ...   \n",
       "1220762    26615       Wgam            1  1421.49      -2.474    j   204644   \n",
       "1220763    26615       Wgam            1   186690    0.211668    j   270526   \n",
       "1220764    26615       Wgam            1  5755.02  -0.0294825    j   127753   \n",
       "1220765    26615       Wgam            1  21209.7     1.45601    j   178814   \n",
       "1220766    26615       Wgam            1  23873.7     -1.6074    g  43675.7   \n",
       "\n",
       "             pt1       eta1       phi1  ... obj11 E11 pt11 eta11 phi11 obj12  \\\n",
       "0         248208  -0.548137   0.264839  ...     0   0    0     0     0     0   \n",
       "1        23583.2    -1.9671   0.951141  ...     0   0    0     0     0     0   \n",
       "2        29679.4   -0.47023    1.32244  ...     0   0    0     0     0     0   \n",
       "3        23789.3   0.714609   -2.42662  ...     0   0    0     0     0     0   \n",
       "4        26763.5    1.99919   -2.17258  ...     0   0    0     0     0     0   \n",
       "...          ...        ...        ...  ...   ...  ..  ...   ...   ...   ...   \n",
       "1220762  67794.3    1.76918  -0.687769  ...     0   0    0     0     0     0   \n",
       "1220763   142188   -1.25264   -2.68393  ...     0   0    0     0     0     0   \n",
       "1220764  56116.6    1.46162    2.70033  ...     0   0    0     0     0     0   \n",
       "1220765    69628     1.5946  -0.971769  ...     0   0    0     0     0     0   \n",
       "1220766  32792.8   0.793701   -1.71254  ...     0   0    0     0     0     0   \n",
       "\n",
       "        E12 pt12 eta12 phi12  \n",
       "0         0    0     0     0  \n",
       "1         0    0     0     0  \n",
       "2         0    0     0     0  \n",
       "3         0    0     0     0  \n",
       "4         0    0     0     0  \n",
       "...      ..  ...   ...   ...  \n",
       "1220762   0    0     0     0  \n",
       "1220763   0    0     0     0  \n",
       "1220764   0    0     0     0  \n",
       "1220765   0    0     0     0  \n",
       "1220766   0    0     0     0  \n",
       "\n",
       "[1220767 rows x 65 columns]"
      ]
     },
     "execution_count": 4,
     "metadata": {},
     "output_type": "execute_result"
    }
   ],
   "source": [
    "df"
   ]
  },
  {
   "cell_type": "code",
   "execution_count": 5,
   "metadata": {},
   "outputs": [
    {
     "name": "stderr",
     "output_type": "stream",
     "text": [
      "/home/joe/anaconda3/lib/python3.7/site-packages/pandas/core/frame.py:4102: SettingWithCopyWarning: \n",
      "A value is trying to be set on a copy of a slice from a DataFrame\n",
      "\n",
      "See the caveats in the documentation: http://pandas.pydata.org/pandas-docs/stable/user_guide/indexing.html#returning-a-view-versus-a-copy\n",
      "  errors=errors,\n"
     ]
    }
   ],
   "source": [
    "#Now we one_hot encode the data to make sure we have a class definition\n",
    "df = df[['process_ID']+variables]\n",
    "one_hot = pd.get_dummies(df['process_ID'])\n",
    "processes = one_hot.columns\n",
    "df.drop('process_ID', axis = 'columns', inplace = True)\n",
    "df = pd.concat([df, one_hot], sort = False, axis = 1)"
   ]
  },
  {
   "cell_type": "code",
   "execution_count": 6,
   "metadata": {},
   "outputs": [],
   "source": [
    "#We have created a df of our values and some kind of class label\n",
    "#We should normalize\n",
    "x = df[variables].values\n",
    "x_scaled = StandardScaler().fit_transform(x)\n",
    "df[variables] = x_scaled\n",
    "\n",
    "x_train, x_test, y_train, y_test = train_test_split(df[variables].values,\n",
    "\t\t\t\t\t\t    df[processes].values, \n",
    "                                                    shuffle = True,\n",
    "                                                    random_state = 42,\n",
    "                                                    test_size = 0.1)"
   ]
  },
  {
   "cell_type": "code",
   "execution_count": 7,
   "metadata": {},
   "outputs": [],
   "source": [
    "#Reshape the data. This will have to be done explicitly until you think of a clever way of doing it\n",
    "x_train = x_train.reshape((x_train.shape[0], 4, 3, 4))\n",
    "x_test = x_test.reshape((x_test.shape[0], 4, 3, 4))"
   ]
  },
  {
   "cell_type": "code",
   "execution_count": 8,
   "metadata": {},
   "outputs": [],
   "source": [
    "def sampling(args):\n",
    "    z_mean, z_log_var=args\n",
    "    epsilon=tf.random.uniform(shape=(K.shape(z_mean)[0], latent_dim))\n",
    "    return z_mean+K.exp(z_log_var/2)*epsilon"
   ]
  },
  {
   "cell_type": "code",
   "execution_count": 9,
   "metadata": {},
   "outputs": [],
   "source": [
    "#VAE Model\n",
    "original_dim = x_train.shape[0]\n",
    "input_shape = x_train.shape[1:]\n",
    "latent_dim = 4\n",
    "intermediate_dim = 50\n",
    "kernel_max_norm = 1000.\n",
    "act_fun = 'relu'\n",
    "epsilon_std = 1.\n",
    "filters = 32\n",
    "kernel_size = (3, 3)\n",
    "strides = (1, 1)\n"
   ]
  },
  {
   "cell_type": "code",
   "execution_count": 10,
   "metadata": {},
   "outputs": [],
   "source": [
    "#Layers\n",
    "x_input = Input(shape = input_shape, name = 'Input')\n",
    "conv_1 = Conv2D(filters = filters, \n",
    "                activation = act_fun,\n",
    "                kernel_size = kernel_size,\n",
    "                strides = strides, \n",
    "                padding = 'same')(x_input)\n",
    "pool_1 = MaxPooling2D(pool_size = (1, 1),\n",
    "                      strides = 2,\n",
    "                      data_format = 'channels_first')(conv_1)\n",
    "conv_2 = Conv2D(filters = filters, \n",
    "                activation = act_fun, \n",
    "                kernel_size = kernel_size, \n",
    "                strides = strides, \n",
    "                padding = 'same')(pool_1)\n",
    "\n",
    "#Shape info needed to inform the dense layer in the decoder\n",
    "flatten = Flatten()(conv_2)\n",
    "#cnn = Model(x_input, flatten, name = 'cnn')\n",
    "#cnn.summary()\n",
    "\n",
    "shape = input_shape"
   ]
  },
  {
   "cell_type": "code",
   "execution_count": 11,
   "metadata": {},
   "outputs": [
    {
     "name": "stdout",
     "output_type": "stream",
     "text": [
      "Model: \"encoder\"\n",
      "__________________________________________________________________________________________________\n",
      "Layer (type)                    Output Shape         Param #     Connected to                     \n",
      "==================================================================================================\n",
      "Input (InputLayer)              (None, 4, 3, 4)      0                                            \n",
      "__________________________________________________________________________________________________\n",
      "conv2d_1 (Conv2D)               (None, 4, 3, 32)     1184        Input[0][0]                      \n",
      "__________________________________________________________________________________________________\n",
      "max_pooling2d_1 (MaxPooling2D)  (None, 4, 2, 16)     0           conv2d_1[0][0]                   \n",
      "__________________________________________________________________________________________________\n",
      "conv2d_2 (Conv2D)               (None, 4, 2, 32)     4640        max_pooling2d_1[0][0]            \n",
      "__________________________________________________________________________________________________\n",
      "flatten_1 (Flatten)             (None, 256)          0           conv2d_2[0][0]                   \n",
      "__________________________________________________________________________________________________\n",
      "dense_encoder_1 (Dense)         (None, 50)           12850       flatten_1[0][0]                  \n",
      "__________________________________________________________________________________________________\n",
      "dense_encoder_2 (Dense)         (None, 16)           816         dense_encoder_1[0][0]            \n",
      "__________________________________________________________________________________________________\n",
      "z_mean (Dense)                  (None, 4)            68          dense_encoder_2[0][0]            \n",
      "__________________________________________________________________________________________________\n",
      "z_var (Dense)                   (None, 4)            68          dense_encoder_2[0][0]            \n",
      "__________________________________________________________________________________________________\n",
      "sampling (Lambda)               (None, 4)            0           z_mean[0][0]                     \n",
      "                                                                 z_var[0][0]                      \n",
      "==================================================================================================\n",
      "Total params: 19,626\n",
      "Trainable params: 19,626\n",
      "Non-trainable params: 0\n",
      "__________________________________________________________________________________________________\n"
     ]
    }
   ],
   "source": [
    "#Encoding\n",
    "dense_encoder_1 = Dense(intermediate_dim,\n",
    "                        activation = act_fun,\n",
    "                        name = 'dense_encoder_1')(flatten)\n",
    "dense_encoder_2 = Dense(16,\n",
    "                        activation = act_fun,\n",
    "                        name = 'dense_encoder_2')(dense_encoder_1)\n",
    "z_mean = Dense(latent_dim, name = 'z_mean')(dense_encoder_2)\n",
    "z_var = Dense(latent_dim, name = 'z_var')(dense_encoder_2)\n",
    "\n",
    "z = Lambda(sampling, output_shape = (latent_dim, ), name = 'sampling')([z_mean, z_var])\n",
    "\n",
    "encoder = Model(x_input, [z_mean, z_var, z], name = 'encoder')\n",
    "encoder.summary()\n"
   ]
  },
  {
   "cell_type": "code",
   "execution_count": 12,
   "metadata": {},
   "outputs": [
    {
     "name": "stdout",
     "output_type": "stream",
     "text": [
      "Model: \"decoder\"\n",
      "_________________________________________________________________\n",
      "Layer (type)                 Output Shape              Param #   \n",
      "=================================================================\n",
      "decoder_input (InputLayer)   (None, 4)                 0         \n",
      "_________________________________________________________________\n",
      "dense_decoder_1 (Dense)      (None, 48)                240       \n",
      "_________________________________________________________________\n",
      "reshape_1 (Reshape)          (None, 4, 3, 4)           0         \n",
      "_________________________________________________________________\n",
      "deconv_1 (Conv2DTranspose)   (None, 4, 3, 32)          1184      \n",
      "_________________________________________________________________\n",
      "deconv_2 (Conv2DTranspose)   (None, 4, 3, 16)          4624      \n",
      "_________________________________________________________________\n",
      "decoder_output (Conv2DTransp (None, 4, 3, 4)           580       \n",
      "=================================================================\n",
      "Total params: 6,628\n",
      "Trainable params: 6,628\n",
      "Non-trainable params: 0\n",
      "_________________________________________________________________\n"
     ]
    }
   ],
   "source": [
    "#Decoding\n",
    "decoder_input = Input(shape = (latent_dim, ), name = 'decoder_input')\n",
    "dense_decoder_1 = Dense(shape[0]*shape[1]*shape[2], \n",
    "                        activation = act_fun, name = 'dense_decoder_1')(decoder_input)\n",
    "reshape = Reshape((shape[0], shape[1], shape[2]))(dense_decoder_1)\n",
    "\n",
    "deconv_1 = Conv2DTranspose(filters = filters,\n",
    "                           kernel_size = kernel_size, \n",
    "                           activation = act_fun, \n",
    "                           strides = strides, \n",
    "                           padding = 'same', \n",
    "                           name = 'deconv_1')(reshape)\n",
    "deconv_2 = Conv2DTranspose(filters = 16,\n",
    "                           kernel_size = kernel_size, \n",
    "                           activation = act_fun, \n",
    "                           strides = strides, \n",
    "                           padding = 'same', \n",
    "                           name = 'deconv_2')(deconv_1)\n",
    "\n",
    "output = Conv2DTranspose(filters = 4, \n",
    "                         kernel_size = kernel_size, \n",
    "                         activation = 'sigmoid', \n",
    "                         padding = 'same', \n",
    "                         strides = strides, \n",
    "                         name = 'decoder_output')(deconv_2)\n",
    "\n",
    "decoder = Model(decoder_input, output, name = 'decoder')\n",
    "decoder.summary()\n"
   ]
  },
  {
   "cell_type": "code",
   "execution_count": 13,
   "metadata": {},
   "outputs": [],
   "source": [
    "#Build the VAE model\n",
    "outputs = decoder(encoder(x_input)[2])\n",
    "vae = Model(x_input, outputs, name = 'vae')"
   ]
  },
  {
   "cell_type": "code",
   "execution_count": 14,
   "metadata": {},
   "outputs": [],
   "source": [
    "#Define some losses\n",
    "def kl_loss(y_true, y_pred):\n",
    "    kl_loss = 1 + z_var - K.square(z_mean) - K.exp(z_var)\n",
    "    kl_loss = K.sum(kl_loss, axis=-1)\n",
    "    kl_loss *= -0.5\n",
    "    kl_loss = K.mean(kl_loss)\n",
    "    return kl_loss\n",
    "\n",
    "def recon_loss(y_true, y_pred):\n",
    "    recon_loss = mean_squared_error(K.flatten(y_true), K.flatten(y_pred))\n",
    "    recon_loss *= shape[0]*shape[1]*shape[2]\n",
    "    recon_loss = K.mean(recon_loss)\n",
    "    return recon_loss\n",
    "\n",
    "def my_vae_loss(y_true, y_pred):\n",
    "    recon = recon_loss(y_true, y_pred) \n",
    "    kl = kl_loss(y_true, y_pred)\n",
    "    vae_loss = recon + kl\n",
    "    return vae_loss\n"
   ]
  },
  {
   "cell_type": "code",
   "execution_count": 15,
   "metadata": {},
   "outputs": [
    {
     "name": "stdout",
     "output_type": "stream",
     "text": [
      "Model: \"vae\"\n",
      "_________________________________________________________________\n",
      "Layer (type)                 Output Shape              Param #   \n",
      "=================================================================\n",
      "Input (InputLayer)           (None, 4, 3, 4)           0         \n",
      "_________________________________________________________________\n",
      "encoder (Model)              [(None, 4), (None, 4), (N 19626     \n",
      "_________________________________________________________________\n",
      "decoder (Model)              (None, 4, 3, 4)           6628      \n",
      "=================================================================\n",
      "Total params: 26,254\n",
      "Trainable params: 26,254\n",
      "Non-trainable params: 0\n",
      "_________________________________________________________________\n"
     ]
    }
   ],
   "source": [
    "vae.summary()"
   ]
  },
  {
   "cell_type": "code",
   "execution_count": 16,
   "metadata": {},
   "outputs": [
    {
     "name": "stdout",
     "output_type": "stream",
     "text": [
      "Model: \"vae\"\n",
      "_________________________________________________________________\n",
      "Layer (type)                 Output Shape              Param #   \n",
      "=================================================================\n",
      "Input (InputLayer)           (None, 4, 3, 4)           0         \n",
      "_________________________________________________________________\n",
      "encoder (Model)              [(None, 4), (None, 4), (N 19626     \n",
      "_________________________________________________________________\n",
      "decoder (Model)              (None, 4, 3, 4)           6628      \n",
      "=================================================================\n",
      "Total params: 26,254\n",
      "Trainable params: 26,254\n",
      "Non-trainable params: 0\n",
      "_________________________________________________________________\n"
     ]
    }
   ],
   "source": [
    "vae.compile(optimizer = 'rmsprop', loss = my_vae_loss, metrics = [kl_loss, recon_loss])\n",
    "vae.summary()\n"
   ]
  },
  {
   "cell_type": "code",
   "execution_count": 17,
   "metadata": {},
   "outputs": [
    {
     "name": "stdout",
     "output_type": "stream",
     "text": [
      "Train on 1098690 samples, validate on 122077 samples\n",
      "Epoch 1/100\n",
      " - 50s - loss: 45.4371 - kl_loss: 0.4045 - recon_loss: 45.0290 - val_loss: 36.0624 - val_kl_loss: 0.5234 - val_recon_loss: 35.3903\n",
      "Epoch 2/100\n",
      " - 60s - loss: 44.1258 - kl_loss: 0.5625 - recon_loss: 43.5563 - val_loss: 35.4694 - val_kl_loss: 0.6266 - val_recon_loss: 34.6936\n",
      "Epoch 3/100\n",
      " - 62s - loss: 43.7175 - kl_loss: 0.6192 - recon_loss: 43.0923 - val_loss: 35.2114 - val_kl_loss: 0.5994 - val_recon_loss: 34.4643\n",
      "Epoch 4/100\n",
      " - 54s - loss: 43.5488 - kl_loss: 0.6404 - recon_loss: 42.9057 - val_loss: 35.1420 - val_kl_loss: 0.6690 - val_recon_loss: 34.3250\n",
      "Epoch 5/100\n",
      " - 53s - loss: 43.4499 - kl_loss: 0.6542 - recon_loss: 42.7914 - val_loss: 35.0525 - val_kl_loss: 0.6401 - val_recon_loss: 34.2651\n",
      "Epoch 6/100\n",
      " - 53s - loss: 43.3737 - kl_loss: 0.6673 - recon_loss: 42.7009 - val_loss: 35.0054 - val_kl_loss: 0.6551 - val_recon_loss: 34.2040\n",
      "Epoch 7/100\n",
      " - 55s - loss: 43.3180 - kl_loss: 0.6854 - recon_loss: 42.6314 - val_loss: 34.9486 - val_kl_loss: 0.7046 - val_recon_loss: 34.0962\n",
      "Epoch 8/100\n",
      " - 52s - loss: 43.2715 - kl_loss: 0.6982 - recon_loss: 42.5697 - val_loss: 34.9004 - val_kl_loss: 0.6824 - val_recon_loss: 34.0712\n",
      "Epoch 9/100\n",
      " - 72s - loss: 43.2312 - kl_loss: 0.7059 - recon_loss: 42.5186 - val_loss: 34.8377 - val_kl_loss: 0.6927 - val_recon_loss: 33.9980\n",
      "Epoch 10/100\n",
      " - 61s - loss: 43.2008 - kl_loss: 0.7096 - recon_loss: 42.4853 - val_loss: 34.8735 - val_kl_loss: 0.7352 - val_recon_loss: 33.9909\n"
     ]
    }
   ],
   "source": [
    "#Fit the model\n",
    "epochs = 100\n",
    "batch_size = 1000\n",
    "\n",
    "history = vae.fit(x = x_train,\n",
    "                  y = x_train,\n",
    "                  validation_data = (x_test, x_test),\n",
    "                  epochs = epochs,\n",
    "                  batch_size = batch_size,\n",
    "                  verbose = 2, \n",
    "                 callbacks = [TerminateOnNaN(), ReduceLROnPlateau(), EarlyStopping()])\n",
    "\n",
    "vae.save('cnn-vae_model.h5')"
   ]
  },
  {
   "cell_type": "code",
   "execution_count": 18,
   "metadata": {},
   "outputs": [
    {
     "data": {
      "image/png": "[encoded data removed]",
      "text/plain": [
       "<Figure size 432x288 with 1 Axes>"
      ]
     },
     "metadata": {
      "needs_background": "light"
     },
     "output_type": "display_data"
    }
   ],
   "source": [
    "plt.plot(history.history['loss'])\n",
    "plt.plot(history.history['val_loss'])\n",
    "plt.title('Model loss')\n",
    "plt.ylabel('Loss')\n",
    "plt.xlabel('Epoch')\n",
    "plt.legend(['Train', 'Test'], loc='upper left')\n",
    "plt.show()"
   ]
  },
  {
   "cell_type": "code",
   "execution_count": 19,
   "metadata": {},
   "outputs": [
    {
     "data": {
      "text/plain": [
       "['loss', 'kl_loss', 'recon_loss']"
      ]
     },
     "execution_count": 19,
     "metadata": {},
     "output_type": "execute_result"
    }
   ],
   "source": [
    "vae.metrics_names"
   ]
  },
  {
   "cell_type": "code",
   "execution_count": 20,
   "metadata": {},
   "outputs": [
    {
     "data": {
      "image/png": "[encoded data removed]",
      "text/plain": [
       "<Figure size 432x288 with 1 Axes>"
      ]
     },
     "metadata": {
      "needs_background": "light"
     },
     "output_type": "display_data"
    }
   ],
   "source": [
    "plt.plot(history.history['kl_loss'])\n",
    "plt.title('Kullback-Liebler Loss')\n",
    "plt.ylabel('Loss')\n",
    "plt.xlabel('Epoch')\n",
    "plt.legend(['Train', 'Test'], loc = 'upper left')\n",
    "plt.show()"
   ]
  },
  {
   "cell_type": "code",
   "execution_count": 21,
   "metadata": {},
   "outputs": [
    {
     "data": {
      "image/png": "[encoded data removed]",
      "text/plain": [
       "<Figure size 432x288 with 1 Axes>"
      ]
     },
     "metadata": {
      "needs_background": "light"
     },
     "output_type": "display_data"
    }
   ],
   "source": [
    "plt.plot(history.history['recon_loss'])\n",
    "plt.title('Reconstruction (MSE) Loss')\n",
    "plt.ylabel('Loss')\n",
    "plt.xlabel('Epoch')\n",
    "plt.legend(['Train', 'Test'], loc = 'upper left')\n",
    "plt.show()"
   ]
  },
  {
   "cell_type": "code",
   "execution_count": null,
   "metadata": {},
   "outputs": [],
   "source": [
    "anom_df = csv_to_df('bsm_test/')"
   ]
  },
  {
   "cell_type": "code",
   "execution_count": null,
   "metadata": {},
   "outputs": [],
   "source": [
    "anom_df = anom_df.fillna(0)\n",
    "anom_vars = [entry for entry in df.columns if entry[0] == 'E'] + [entry for entry in df.columns if entry[0:2] == 'pt'] + [entry for entry in df.columns if entry[0:2] == 'et'] + [entry for entry in df.columns if entry[0:2] == 'ph']\n",
    "#Now we one_hot encode the data to make sure we have a class definition\n",
    "anom_df = anom_df[['process_ID']+anom_vars]\n",
    "anom_one_hot = pd.get_dummies(anom_df['process_ID'])\n",
    "anom_processes = anom_one_hot.columns\n",
    "anom_df.drop('process_ID', axis = 'columns', inplace = True)\n",
    "anom_df = pd.concat([anom_df, anom_one_hot], sort = False, axis = 1)"
   ]
  },
  {
   "cell_type": "code",
   "execution_count": null,
   "metadata": {},
   "outputs": [],
   "source": [
    "#We have created a df of our values and some kind of class label\n",
    "#We should normalize\n",
    "anom_x = anom_df[anom_vars].values\n",
    "anom_scaled = StandardScaler().fit_transform(anom_x)\n",
    "anom_df[anom_vars] = anom_scaled\n",
    "\n",
    "anom_x_train, anom_x_test, anom_y_train, anom_y_test = train_test_split(anom_df[anom_vars].values,\n",
    "\t\t\t\t\t\t    anom_df[anom_processes].values, \n",
    "                                                    shuffle = True,\n",
    "                                                    random_state = 42,\n",
    "                                                    test_size = 0.1)"
   ]
  },
  {
   "cell_type": "code",
   "execution_count": null,
   "metadata": {},
   "outputs": [],
   "source": [
    "#Reshape the data. This will have to be done explicitly until you think of a clever way of doing it\n",
    "anom_x_train = anom_x_train.reshape((anom_x_train.shape[0], 4, 3, 5))\n",
    "anom_x_test = anom_x_test.reshape((anom_x_test.shape[0], 4, 3, 5))"
   ]
  },
  {
   "cell_type": "code",
   "execution_count": null,
   "metadata": {},
   "outputs": [],
   "source": [
    "from keras.models import load_model"
   ]
  },
  {
   "cell_type": "code",
   "execution_count": null,
   "metadata": {},
   "outputs": [],
   "source": [
    "vae.evaluate(x_train[:2455], anom_x_train)"
   ]
  },
  {
   "cell_type": "code",
   "execution_count": null,
   "metadata": {},
   "outputs": [],
   "source": []
  }
 ],
 "metadata": {
  "kernelspec": {
   "display_name": "Python 3",
   "language": "python",
   "name": "python3"
  },
  "language_info": {
   "codemirror_mode": {
    "name": "ipython",
    "version": 3
   },
   "file_extension": ".py",
   "mimetype": "text/x-python",
   "name": "python",
   "nbconvert_exporter": "python",
   "pygments_lexer": "ipython3",
   "version": "3.7.4"
  }
 },
 "nbformat": 4,
 "nbformat_minor": 2
}
